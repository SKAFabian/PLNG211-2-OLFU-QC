{
  "nbformat": 4,
  "nbformat_minor": 0,
  "metadata": {
    "colab": {
      "provenance": [],
      "include_colab_link": true
    },
    "kernelspec": {
      "name": "python3",
      "display_name": "Python 3"
    },
    "language_info": {
      "name": "python"
    }
  },
  "cells": [
    {
      "cell_type": "markdown",
      "metadata": {
        "id": "view-in-github",
        "colab_type": "text"
      },
      "source": [
        "<a href=\"https://colab.research.google.com/github/SKAFabian/PLNG211-2-OLFU-QC/blob/main/OOP_1_1.ipynb\" target=\"_parent\"><img src=\"https://colab.research.google.com/assets/colab-badge.svg\" alt=\"Open In Colab\"/></a>"
      ]
    },
    {
      "cell_type": "code",
      "execution_count": 5,
      "metadata": {
        "id": "VN_LKY95GHSJ"
      },
      "outputs": [],
      "source": [
        "\n",
        "#1. Write a Python to display your full name, student number, age, and course\n",
        "Name = \"Sebastiahn Kyle A. Fabian\"\n",
        "Student_No = 19-6017-192\n",
        "Age = 21\n",
        "School = \"Our Lady Fatima University\"\n",
        "Course = \"Bachelor in Science Computer Science\""
      ]
    },
    {
      "cell_type": "code",
      "source": [
        "#2. Create a class named Student with attributes: Name, Student_No, Age, School, and Course\n",
        "class Student:\n",
        "  def __init__(self,Name, Student_No, Age,School,Course):\n",
        "    self.Name = Name\n",
        "    self.Student_No = Student_No\n",
        "    self.Age = Age\n",
        "    self.School = School\n",
        "    self.Course = Course"
      ],
      "metadata": {
        "id": "tWiNU7rtGRPT"
      },
      "execution_count": 6,
      "outputs": []
    },
    {
      "cell_type": "code",
      "source": [
        "#4. Create a method Info() using an instantiation of a class\n",
        "def info(self):\n",
        "    print(\"\"+self.Name)\n",
        "    print(self.Student_No)\n",
        "    print(self.Age)\n",
        "    print(\"\"+self.School)\n",
        "    print(\"\"+self.Course)"
      ],
      "metadata": {
        "id": "KcdjJw_JGWHE"
      },
      "execution_count": 7,
      "outputs": []
    },
    {
      "cell_type": "code",
      "source": [
        "#3. Create an object name Myself and assign an instance for each attribute\n",
        "Myself = Student(Name,Student_No,Age,School,Course)"
      ],
      "metadata": {
        "id": "KzrY0fKwGYch"
      },
      "execution_count": 8,
      "outputs": []
    },
    {
      "cell_type": "code",
      "source": [
        "#4. Create a method Info() using an instantiation of a class\n",
        "Myself.info()\n"
      ],
      "metadata": {
        "colab": {
          "base_uri": "https://localhost:8080/",
          "height": 130
        },
        "id": "TL_2v4NCGZ96",
        "outputId": "3a17e66c-9777-4075-c0b7-1ac64d455110"
      },
      "execution_count": 10,
      "outputs": [
        {
          "output_type": "error",
          "ename": "IndentationError",
          "evalue": "ignored",
          "traceback": [
            "\u001b[0;36m  File \u001b[0;32m\"<ipython-input-10-c699b6641d62>\"\u001b[0;36m, line \u001b[0;32m2\u001b[0m\n\u001b[0;31m    Myself.info()\u001b[0m\n\u001b[0m    ^\u001b[0m\n\u001b[0;31mIndentationError\u001b[0m\u001b[0;31m:\u001b[0m unexpected indent\n"
          ]
        }
      ]
    }
  ]
}