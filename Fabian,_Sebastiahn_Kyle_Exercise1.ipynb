{
  "nbformat": 4,
  "nbformat_minor": 0,
  "metadata": {
    "colab": {
      "provenance": [],
      "authorship_tag": "ABX9TyOOSTbrne0nzIIG7vK13dfv",
      "include_colab_link": true
    },
    "kernelspec": {
      "name": "python3",
      "display_name": "Python 3"
    },
    "language_info": {
      "name": "python"
    }
  },
  "cells": [
    {
      "cell_type": "markdown",
      "metadata": {
        "id": "view-in-github",
        "colab_type": "text"
      },
      "source": [
        "<a href=\"https://colab.research.google.com/github/SKAFabian/PLNG211-2-OLFU-QC/blob/main/Fabian%2C_Sebastiahn_Kyle_Exercise1.ipynb\" target=\"_parent\"><img src=\"https://colab.research.google.com/assets/colab-badge.svg\" alt=\"Open In Colab\"/></a>"
      ]
    },
    {
      "cell_type": "code",
      "execution_count": 1,
      "metadata": {
        "colab": {
          "base_uri": "https://localhost:8080/"
        },
        "id": "t5yAwAvnCOxj",
        "outputId": "63a5d842-2e8e-434c-91d9-da9bfc583c7d"
      },
      "outputs": [
        {
          "output_type": "stream",
          "name": "stdout",
          "text": [
            "The odd numbers are: \n",
            "49\n",
            "87\n",
            "75\n",
            "The sum of the Odd numbers are: 211\n"
          ]
        }
      ],
      "source": [
        "num=[26,49,98,87,62,75]\n",
        "sum=0;\n",
        "print(\"The odd numbers are: \")\n",
        "for x in num:\n",
        "  if (x %2 != 0): \n",
        "    sum=sum+x\n",
        "    print(x)\n",
        "print(\"The sum of the Odd numbers are:\",sum)"
      ]
    }
  ]
}