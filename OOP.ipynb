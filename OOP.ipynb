{
  "nbformat": 4,
  "nbformat_minor": 0,
  "metadata": {
    "colab": {
      "provenance": [],
      "authorship_tag": "ABX9TyMsLSg+vf4VNCpDy9QZT+de",
      "include_colab_link": true
    },
    "kernelspec": {
      "name": "python3",
      "display_name": "Python 3"
    },
    "language_info": {
      "name": "python"
    }
  },
  "cells": [
    {
      "cell_type": "markdown",
      "metadata": {
        "id": "view-in-github",
        "colab_type": "text"
      },
      "source": [
        "<a href=\"https://colab.research.google.com/github/SKAFabian/PLNG211-2-OLFU-QC/blob/main/OOP.ipynb\" target=\"_parent\"><img src=\"https://colab.research.google.com/assets/colab-badge.svg\" alt=\"Open In Colab\"/></a>"
      ]
    },
    {
      "cell_type": "code",
      "execution_count": 4,
      "metadata": {
        "colab": {
          "base_uri": "https://localhost:8080/"
        },
        "id": "frmH2daISPio",
        "outputId": "e0122f5f-f974-441e-d1a3-b8f66d1d5631"
      },
      "outputs": [
        {
          "output_type": "stream",
          "name": "stdout",
          "text": [
            "Sebastiahn Kyle A. Fabian\n",
            "-6190\n",
            "20\n",
            "Our Lady Fatima University\n",
            "Bachelor in Science Computer Science\n"
          ]
        }
      ],
      "source": [
        "#1. Write a Python to display your full name, student number, age, and course\n",
        "Name = \"Sebastiahn Kyle A. Fabian\"\n",
        "Student_No = 19-6017-192\n",
        "Age = 20\n",
        "School = \"Our Lady Fatima University\"\n",
        "Course = \"Bachelor in Science Computer Science\"\n",
        "print(Name)\n",
        "print(Student_No)\n",
        "print(Age)\n",
        "print(School)\n",
        "print(Course)"
      ]
    },
    {
      "cell_type": "code",
      "source": [
        "#2. Create a class named Student with attributes: Name, Student_No, Age, School, and Course\n",
        "class Student:\n",
        "  def __init__(self,Name, Student_No, Age,School,Course):\n",
        "    self.Name = Name\n",
        "    self.Student_No = Student_No\n",
        "    self.Age = Age\n",
        "    self.School = School\n",
        "    self.Course = Course"
      ],
      "metadata": {
        "id": "GPTNV9WQSob-"
      },
      "execution_count": 6,
      "outputs": []
    },
    {
      "cell_type": "code",
      "source": [
        "#3. Create an object name Myself and assign an instance for each attribute\n",
        "Myself = Student(Name,Student_No,Age,School,Course)\n",
        "print(Myself)"
      ],
      "metadata": {
        "colab": {
          "base_uri": "https://localhost:8080/"
        },
        "id": "nwAFC4TpS1na",
        "outputId": "5e3df53e-534a-4f89-f7da-3b826a62756f"
      },
      "execution_count": 7,
      "outputs": [
        {
          "output_type": "stream",
          "name": "stdout",
          "text": [
            "<__main__.Student object at 0x7fae98536730>\n"
          ]
        }
      ]
    },
    {
      "cell_type": "code",
      "source": [
        "#4. Create a method Info() using an instantiation of a class\n",
        "def info(self):\n",
        "    print(\"\"+self.Name)\n",
        "    print(self.Student_No)\n",
        "    print(self.age)\n",
        "    print(\"\"+self.School)\n",
        "    print(\"\"+self.Course)"
      ],
      "metadata": {
        "id": "yZhDembsTH3o"
      },
      "execution_count": 10,
      "outputs": []
    }
  ]
}